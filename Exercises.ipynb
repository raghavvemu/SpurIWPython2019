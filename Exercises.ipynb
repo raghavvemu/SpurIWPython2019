{
 "cells": [
  {
   "cell_type": "code",
   "execution_count": 6,
   "metadata": {},
   "outputs": [
    {
     "name": "stdout",
     "output_type": "stream",
     "text": [
      "80\n"
     ]
    }
   ],
   "source": [
    "print(20*4)"
   ]
  },
  {
   "cell_type": "code",
   "execution_count": 8,
   "metadata": {},
   "outputs": [
    {
     "name": "stdout",
     "output_type": "stream",
     "text": [
      "80\n"
     ]
    }
   ],
   "source": [
    "a = 20\n",
    "b = 4\n",
    "print(a*b)"
   ]
  },
  {
   "cell_type": "code",
   "execution_count": 9,
   "metadata": {},
   "outputs": [
    {
     "name": "stdout",
     "output_type": "stream",
     "text": [
      "80\n"
     ]
    }
   ],
   "source": [
    "c = 20*4\n",
    "print(c)"
   ]
  },
  {
   "cell_type": "code",
   "execution_count": 109,
   "metadata": {},
   "outputs": [
    {
     "ename": "SyntaxError",
     "evalue": "invalid syntax (<ipython-input-109-b2a594f947cf>, line 3)",
     "output_type": "error",
     "traceback": [
      "\u001b[0;36m  File \u001b[0;32m\"<ipython-input-109-b2a594f947cf>\"\u001b[0;36m, line \u001b[0;32m3\u001b[0m\n\u001b[0;31m    if a>b\u001b[0m\n\u001b[0m          ^\u001b[0m\n\u001b[0;31mSyntaxError\u001b[0m\u001b[0;31m:\u001b[0m invalid syntax\n"
     ]
    }
   ],
   "source": [
    "a = 100\n",
    "b = 50\n",
    "if a>b\n",
    "    print(\"I've mastered decision making\")\n",
    "\n",
    "    \n",
    "    print(\"I've mastered decision making\")\n",
    "    print(\"I've mastered decision making\")\n",
    "    print(\"I've mastered decision making\")\n",
    "    print(\"I've mastered decision making\")\n",
    "    print(\"I've mastered decision making\")\n",
    "    print(\"I've mastered decision making\")\n",
    "    print(\"I've mastered decision making\")\n",
    "    print(\"I've mastered decision making\")\n",
    "    print(\"I've mastered decision making\")\n",
    "    print(\"I've mastered decision making\")\n",
    "    print(\"I've mastered decision making\")\n",
    "    print(\"I've mastered decision making\")\n",
    "    print(\"I've mastered decision making\")\n",
    "    print(\"I've mastered decision making\")\n",
    "    print(\"I've mastered decision making\")\n",
    "    print(\"I've mastered decision making\")\n",
    "    print(\"I've mastered decision making\")\n",
    "    print(\"I've mastered decision making\")\n",
    "    print(\"I've mastered decision making\")\n",
    "    print(\"I've mastered decision making\")\n",
    "    print(\"I've mastered decision making\")\n",
    "    print(\"I've mastered decision making\")\n",
    "    print(\"I've mastered decision making\")\n",
    "    print(\"I've mastered decision making\")\n",
    "    print(\"I've mastered decision making\")\n",
    "    print(\"I've mastered decision making\") \n",
    "    print(\"I've mastered decision making\")\n",
    "    print(\"I've mastered decision making\")\n",
    "    print(\"I've mastered decision making\")\n",
    "    print(\"I've mastered decision making\")\n",
    "    print(\"I've mastered decision making\")\n",
    "    print(\"I've mastered decision making\")\n",
    "    print(\"I've mastered decision making\") \n",
    "    print(\"I've mastered decision making\")\n",
    "    print(\"I've mastered decision making\")\n",
    "    print(\"I've mastered decision making\")\n",
    "    print(\"I've mastered decision making\")\n",
    "    print(\"I've mastered decision making\")\n",
    "    print(\"I've mastered decision making\")\n",
    "    print(\"I've mastered decision making\") \n",
    "    print(\"I've mastered decision making\")\n",
    "    print(\"I've mastered decision making\")\n",
    "    print(\"I've mastered decision making\")\n",
    "    print(\"I've mastered decision making\")\n",
    "    print(\"I've mastered decision making\")\n",
    "    print(\"I've mastered decision making\")\n",
    "    print(\"I've mastered decision making\") \n",
    "    print(\"I've mastered decision making\")\n",
    "    print(\"I've mastered decision making\")\n",
    "    print(\"I've mastered decision making\")\n",
    "    print(\"I've mastered decision making\")\n",
    "    print(\"I've mastered decision making\")\n",
    "    print(\"I've mastered decision making\")\n",
    "    print(\"I've mastered decision making\") \n",
    "    print(\"I've mastered decision making\")\n",
    "    print(\"I've mastered decision making\")\n",
    "    print(\"I've mastered decision making\")\n",
    "    print(\"I've mastered decision making\")\n",
    "    print(\"I've mastered decision making\")\n",
    "    print(\"I've mastered decision making\")\n",
    "    print(\"I've mastered decision making\")\n",
    "    print(\"I've mastered decision making\")\n",
    "    print(\"I've mastered decision making\")\n",
    "    print(\"I've mastered decision making\")\n",
    "    print(\"I've mastered decision making\")\n",
    "    print(\"I've mastered decision making\")\n",
    "    print(\"I've mastered decision making\")\n",
    "    print(\"I've mastered decision making\")\n",
    "    print(\"I've mastered decision making\")\n",
    "    print(\"I've mastered decision making\") \n",
    "    print(\"I've mastered decision making\")\n",
    "    print(\"I've mastered decision making\")\n",
    "    print(\"I've mastered decision making\")\n",
    "    print(\"I've mastered decision making\")\n",
    "    print(\"I've mastered decision making\")\n",
    "    print(\"I've mastered decision making\")\n",
    "    print(\"I've mastered decision making\") \n",
    "    print(\"I've mastered decision making\")\n",
    "    print(\"I've mastered decision making\")\n",
    "    print(\"I've mastered decision making\")\n",
    "    print(\"I've mastered decision making\")\n",
    "    print(\"I've mastered decision making\")\n",
    "    print(\"I've mastered decision making\") \n",
    "    print(\"I've mastered decision making\")\n",
    "    print(\"I've mastered decision making\")\n",
    "    print(\"I've mastered decision making\")\n",
    "    print(\"I've mastered decision making\")\n",
    "    print(\"I've mastered decision making\")\n",
    "    print(\"I've mastered decision making\")\n",
    "    print(\"I've mastered decision making\") \n",
    "    print(\"I've mastered decision making\")\n",
    "    print(\"I've mastered decision making\")\n",
    "    print(\"I've mastered decision making\")\n",
    "    print(\"I've mastered decision making\")\n",
    "    print(\"I've mastered decision making\")\n",
    "    print(\"I've mastered decision making\")\n",
    "    print(\"I've mastered decision making\")\n",
    "    print(\"I've mastered decision making\")\n",
    "    print(\"I've mastered decision making\")\n",
    "    print(\"I've mastered decision making\")\n",
    "    print(\"I've mastered decision making\")\n",
    "    print(\"I've mastered decision making\")\n",
    "    print(\"I've mastered decision making\") \n",
    "    print(\"I've mastered decision making\")\n",
    "    print(\"I've mastered decision making\")\n",
    "    print(\"I've mastered decision making\")\n",
    "    print(\"I've mastered decision making\")\n",
    "    print(\"I've mastered decision making\")\n",
    "    print(\"I've mastered decision making\")\n",
    "    print(\"I've mastered decision making\") \n",
    "    print(\"I've mastered decision making\")\n",
    "    print(\"I've mastered decision making\")\n",
    "    print(\"I've mastered decision making\")\n",
    "    print(\"I've mastered decision making\")\n",
    "    print(\"I've mastered decision making\")\n",
    "    print(\"I've mastered decision making\")\n",
    "    print(\"I've mastered decision making\")\n",
    "    print(\"I've mastered decision making\")\n",
    "    print(\"I've mastered decision making\")\n",
    "    print(\"I've mastered decision making\")\n",
    "    print(\"I've mastered decision making\")\n",
    "    print(\"I've mastered decision making\")\n",
    "    print(\"I've mastered decision making\")\n",
    "    print(\"I've mastered decision making\")\n",
    "    print(\"I've mastered decision making\")\n",
    "    print(\"I've mastered decision making\")\n",
    "    print(\"I've mastered decision making\")\n",
    "    print(\"I've mastered decision making\")\n",
    "    print(\"I've mastered decision making\")\n",
    "    print(\"I've mastered decision making\") \n",
    "    print(\"I've mastered decision making\")\n",
    "    print(\"I've mastered decision making\")\n",
    "    print(\"I've mastered decision making\")\n",
    "    print(\"I've mastered decision making\")\n",
    "    print(\"I've mastered decision making\")\n",
    "    print(\"I've mastered decision making\")\n",
    "    print(\"I'veion making\")\n",
    "    print(\"I've mastered decision making\")\n",
    "    print(\"I've mastered decision making\")\n",
    "    print(\"I've mastered decision making\")\n",
    "    print(\"I've mastered decision making\")\n",
    "    print(\"I've mastered decision making\")\n",
    "    print(\"I've mastered decision making\")\n",
    "    print(\"I've mastered decision making\")\n",
    "    print(\"I've mastered decision making\")\n",
    "    print(\"I've mastered decision making\")\n",
    "    print(\"I've mastered decision making\")\n",
    "    print(\"I've mastered decision making\") \n",
    "    print(\"I've mastered decision making\")\n",
    "    print(\"I've mastered decision making\")\n",
    "    print(\"I've mastered decision making\")\n",
    "    print(\"I've mastered decision making\")\n",
    "    print(\"I've mastered decision making\")\n",
    "    print(\"I've mastered decision making\")\n",
    "    print(\"I've mastered decision making\")\n",
    "    print(\"I've mastered decision making\")\n",
    "    print(\"I've mastered decision making\")\n",
    "    print(\"I've mastered decision making\")\n",
    "    print(\"I've mastered decision making\")\n",
    "    print(\"I've mastered decision making\")\n",
    "    print(\"I've mastered decision making\")\n",
    "    print(\"I've mastered decision making\")\n",
    "    print(\"I've mastered decision making\")\n",
    "    print(\"I've mastered decision making\")\n",
    "    print(\"I've mastered decision making\")\n",
    "    print(\"I've mastered decision making\")\n",
    "    print(\"I've mastered decision making\")\n",
    "    print(\"I've mastered decision making\")\n",
    "    print(\"I've mastered decision making\")\n",
    "    print(\"I've mastered decision making\")\n",
    "    print(\"I've mastered decision making\")\n",
    "    print(\"I've mastered decision making\")\n",
    "    print(\"I've mastered decision making\")\n",
    "    print(\"I've mastered decision making\") \n",
    "    print(\"I've mastered decision making\")\n",
    "    print(\"I've mastered decision making\")\n",
    "    print(\"I've mastered decision making\")\n",
    "    print(\"I've mastered decision making\")\n",
    "    print(\"I've mastered decision making\")\n",
    "    print(\"I've mastered decision making\")\n",
    "    print(\"I've mastered decision making\") \n",
    "    print(\"I've mastered decision making\")\n",
    "    print(\"I've mastered decision making\")\n",
    "    print(\"I've mastered decision making\")\n",
    "    print(\"I've mastered decision making\")\n",
    "    print(\"I've mastered decision making\")\n",
    "    print(\"I've mastered decision making\")\n",
    "    print(\"I've mastered decision making\")\n",
    "    print(\"I've mastered decision making\")\n",
    "    print(\"I've mastered decision making\")\n",
    "    print(\"I've mastered decision making\")\n",
    "    print(\"I've mastered decision making\")\n",
    "    print(\"I've mastered decision making\") \n",
    "    print(\"I've mastered decision making\")\n",
    "    print(\"I've mastered decision making\")\n",
    "    print(\"I've mastered decision making\")\n",
    "    print(\"I've mastered decision making\")\n",
    "    print(\"I've mastered decision making\")\n",
    "    print(\"I've mastered decision making\")\n",
    "    print(\"I've mastered decision making\") \n",
    "    print(\"I've mastered decision making\")\n",
    "    print(\"I've mastered decision making\")\n",
    "    print(\"I've mastered decision making\")\n",
    "    print(\"I've mastered decision making\")\n",
    "    print(\"I've mastered decision making\")\n",
    "    print(\"I've mastered decision making\")\n",
    "    print(\"I've mastered decision making\")\n",
    "    print(\"I've mastered decision making\")\n",
    "    print(\"I've mastered decision making\")\n",
    "    print(\"I've mastered decision making\")\n",
    "    print(\"I've mastered decision making\")\n",
    "    print(\"I've mastered decision making\")\n",
    "    print(\"I've mastered decision making\")\n",
    "    print(\"I've mastered decision making\")\n",
    "    print(\"I've mastered decision making\")\n",
    "    print(\"I've mastered decision making\")\n",
    "    print(\"I've mastered decision making\")\n",
    "    print(\"I've mastered decision making\")\n",
    "    print(\"I've mastered decision making\")\n",
    "    print(\"I've mastered decision making\")\n",
    "    print(\"I've mastered decision making\")\n",
    "    print(\"I've mastered decision making\")\n",
    "    print(\"I've mastered decision making\")\n",
    "    print(\"I've mastered decision making\")\n",
    "    print(\"I've mastered decision making\")\n",
    "    print(\"I've mastered decision making\")\n",
    "    print(\"I've mastered decision making\")\n",
    "    print(\"I've mastered decision making\")\n",
    "    print(\"I've mastered decision making\")\n",
    "    print(\"I've mastered decision making\")\n",
    "    print(\"I've mastered decision making\")\n",
    "    print(\"I've mastered decision making\")\n",
    "    print(\"I've mastered decision making\")\n",
    "    print(\"I've mastered decision making\")\n",
    "    print(\"I've mastered decision making\")\n",
    "    print(\"I've mastered decision making\")\n",
    "    print(\"I've mastered decision making\")\n",
    "    print(\"I've mastered decision making\")\n",
    "    print(\"I've mastered decision making\")\n",
    "    print(\"I've mastered decision making\")\n",
    "    print(\"I've mastered decision making\")\n",
    "    print(\"I've mastered decision making\")\n",
    "    print(\"I've mastered decision making\") "
   ]
  },
  {
   "cell_type": "code",
   "execution_count": null,
   "metadata": {},
   "outputs": [],
   "source": [
    "print(\"Hello, World!\")"
   ]
  },
  {
   "cell_type": "code",
   "execution_count": null,
   "metadata": {},
   "outputs": [],
   "source": [
    "a = \"Hello, World!\"\n",
    "print(a.replace(\"World\", \"Class\"))"
   ]
  },
  {
   "cell_type": "code",
   "execution_count": 52,
   "metadata": {},
   "outputs": [],
   "source": [
    "thislist = [\"apple\", \"banana\", \"cherry\"]\n",
    "x=thislist[1] # sets x to \"banana\" \n",
    "x=thislist[2] # sets x to \"apple\" \n"
   ]
  },
  {
   "cell_type": "code",
   "execution_count": null,
   "metadata": {
    "scrolled": true
   },
   "outputs": [],
   "source": [
    "thislist = [\"apple\", \"banana\", \"cherry\"]\n",
    "print(thislist)"
   ]
  },
  {
   "cell_type": "code",
   "execution_count": null,
   "metadata": {},
   "outputs": [],
   "source": [
    "y = -5\n",
    "while y<10:\n",
    "    if y == 0:\n",
    "        y = y + 1\n",
    "        continue\n",
    "    print(y)\n",
    "    y = y + 1\n",
    "    "
   ]
  },
  {
   "cell_type": "markdown",
   "metadata": {},
   "source": [
    "# function Exercise"
   ]
  },
  {
   "cell_type": "code",
   "execution_count": 127,
   "metadata": {},
   "outputs": [
    {
     "name": "stdout",
     "output_type": "stream",
     "text": [
      "0\n"
     ]
    }
   ],
   "source": [
    "def sumList(myList):\n",
    "    sumList = 0\n",
    "    for item in myList:\n",
    "        sumList += item     \n",
    "        return sumList\n",
    "x = range(3141592)\n",
    "print(sumList(x))"
   ]
  },
  {
   "cell_type": "code",
   "execution_count": 130,
   "metadata": {},
   "outputs": [
    {
     "name": "stdout",
     "output_type": "stream",
     "text": [
      "0\n"
     ]
    }
   ],
   "source": [
    "def pizza(olives):\n",
    "    if olives == 0:\n",
    "        return olives\n",
    "    olives -= 1\n",
    "    return pizza(olives)\n",
    "print(-pizza(100)  )"
   ]
  },
  {
   "cell_type": "code",
   "execution_count": null,
   "metadata": {},
   "outputs": [],
   "source": [
    "import pizza as pz\n",
    "pz.chicken(\"olives\")"
   ]
  },
  {
   "cell_type": "code",
   "execution_count": null,
   "metadata": {},
   "outputs": [],
   "source": [
    "x = input('When were you born:')\n",
    "print('you are born in  ' + x)\n",
    "y = input()"
   ]
  },
  {
   "cell_type": "code",
   "execution_count": 135,
   "metadata": {},
   "outputs": [
    {
     "ename": "SyntaxError",
     "evalue": "invalid syntax (<ipython-input-135-2eef673d08f6>, line 2)",
     "output_type": "error",
     "traceback": [
      "\u001b[0;36m  File \u001b[0;32m\"<ipython-input-135-2eef673d08f6>\"\u001b[0;36m, line \u001b[0;32m2\u001b[0m\n\u001b[0;31m    Traceback (most recent call last):\u001b[0m\n\u001b[0m                         ^\u001b[0m\n\u001b[0;31mSyntaxError\u001b[0m\u001b[0;31m:\u001b[0m invalid syntax\n"
     ]
    }
   ],
   "source": [
    "How old are you?\n",
    "Traceback (most recent call last):\n",
    "  File \"script.py\", line 2, in <module>\n",
    "    age = input()\n",
    "EOFError: EOF when reading a line\n"
   ]
  },
  {
   "cell_type": "code",
   "execution_count": 137,
   "metadata": {},
   "outputs": [
    {
     "name": "stdout",
     "output_type": "stream",
     "text": [
      "Enter number :21\n",
      "21\n",
      "Enter name : raghav\n",
      "raghav\n",
      "type of number <class 'str'>\n",
      "type of name <class 'str'>\n"
     ]
    }
   ],
   "source": [
    "num = input (\"Enter number :\") \n",
    "print(num) \n",
    "name1 = input(\"Enter name : \") \n",
    "print(name1) \n",
    "  \n",
    "# Printing type of input value \n",
    "print (\"type of number\", type(num)) \n",
    "print (\"type of name\", type(name1)) "
   ]
  },
  {
   "cell_type": "code",
   "execution_count": 140,
   "metadata": {},
   "outputs": [
    {
     "name": "stdout",
     "output_type": "stream",
     "text": [
      "before adding:\n",
      "first:  {'k', 'g', 's', 'e'}\n",
      "second:  {'k', 'g', 's', 'e'}\n",
      "after adding: \n",
      "first:  {'k', 'g', 's', 'e'}\n",
      "second:  {'f', 'g', 's', 'e', 'k'}\n"
     ]
    }
   ],
   "source": [
    "# Python program to demonstrate that copy  \n",
    "# created using set copy is shallow \n",
    "first = {'g', 'e', 'e', 'k', 's'} \n",
    "second = first.copy() \n",
    "  \n",
    "# before adding \n",
    "print('before adding:')\n",
    "print('first: ',first)\n",
    "print('second: ', second) \n",
    "  \n",
    "# Adding element to second, first does not \n",
    "# change. \n",
    "second.add('f') \n",
    "  \n",
    "# after adding \n",
    "print('after adding: ')\n",
    "print('first: ', first)\n",
    "print('second: ', second)  "
   ]
  },
  {
   "cell_type": "raw",
   "metadata": {},
   "source": [
    "# Python program showing how to \n",
    "# multiple input using split \n",
    "  \n",
    "# taking two inputs at a time \n",
    "x, y = input(\"Enter a two value: \").split() \n",
    "print(\"Number of boys: \", x) \n",
    "print(\"Number of girls: \", y) \n",
    "print() \n",
    "  \n",
    "# taking three inputs at a time \n",
    "x, y, z = input(\"Enter a three value: \").split() \n",
    "print(\"Total number of students: \", x) \n",
    "print(\"Number of boys is : \", y) \n",
    "print(\"Number of girls is : \", z) \n",
    "print() \n",
    "  \n",
    "# taking two inputs at a time \n",
    "a, b = input(\"Enter a two value: \").split() \n",
    "print(\"First number is {} and second number is {}\".format(a, b)) \n",
    "print() \n",
    "  \n",
    "# taking multiple inputs at a time  \n",
    "# and type casting using list() function \n",
    "x = list(map(int, input(\"Enter a multiple value: \").split())) \n",
    "print(\"List of students: \", x) Owner"
   ]
  },
  {
   "cell_type": "code",
   "execution_count": 158,
   "metadata": {},
   "outputs": [
    {
     "ename": "ValueError",
     "evalue": "invalid literal for int() with base 10: 'How many ninjas are attacking?'",
     "output_type": "error",
     "traceback": [
      "\u001b[0;31m---------------------------------------------------------------------------\u001b[0m",
      "\u001b[0;31mValueError\u001b[0m                                Traceback (most recent call last)",
      "\u001b[0;32m<ipython-input-158-c9ad0eb18764>\u001b[0m in \u001b[0;36m<module>\u001b[0;34m\u001b[0m\n\u001b[0;32m----> 1\u001b[0;31m \u001b[0mninjas\u001b[0m \u001b[0;34m=\u001b[0m \u001b[0mint\u001b[0m\u001b[0;34m(\u001b[0m\u001b[0mstr\u001b[0m\u001b[0;34m(\u001b[0m\u001b[0;34m\"How many ninjas are attacking?\"\u001b[0m\u001b[0;34m)\u001b[0m\u001b[0;34m)\u001b[0m\u001b[0;34m\u001b[0m\u001b[0;34m\u001b[0m\u001b[0m\n\u001b[0m\u001b[1;32m      2\u001b[0m \u001b[0;34m\u001b[0m\u001b[0m\n\u001b[1;32m      3\u001b[0m \u001b[0;32mif\u001b[0m \u001b[0mninjas\u001b[0m \u001b[0;34m>\u001b[0m \u001b[0;36m50\u001b[0m\u001b[0;34m:\u001b[0m\u001b[0;34m\u001b[0m\u001b[0;34m\u001b[0m\u001b[0m\n\u001b[1;32m      4\u001b[0m     \u001b[0mprint\u001b[0m\u001b[0;34m(\u001b[0m\u001b[0;34m\"Thats to many\"\u001b[0m\u001b[0;34m)\u001b[0m\u001b[0;34m\u001b[0m\u001b[0;34m\u001b[0m\u001b[0m\n\u001b[1;32m      5\u001b[0m \u001b[0;32melif\u001b[0m \u001b[0mninjas\u001b[0m \u001b[0;34m>\u001b[0m \u001b[0;36m20\u001b[0m\u001b[0;34m:\u001b[0m\u001b[0;34m\u001b[0m\u001b[0;34m\u001b[0m\u001b[0m\n",
      "\u001b[0;31mValueError\u001b[0m: invalid literal for int() with base 10: 'How many ninjas are attacking?'"
     ]
    }
   ],
   "source": [
    "ninjas = int(input(\"How many ninjas are attacking?\"))\n",
    "\n",
    "if ninjas > 50:\n",
    "    print(\"Thats to many\")\n",
    "elif ninjas > 20:\n",
    "    print(\"Maybe we can do it!\")\n",
    "else:\n",
    "    print(\"We can take'em!\")\n",
    "\n"
   ]
  },
  {
   "cell_type": "code",
   "execution_count": null,
   "metadata": {},
   "outputs": [],
   "source": []
  },
  {
   "cell_type": "code",
   "execution_count": null,
   "metadata": {},
   "outputs": [],
   "source": []
  }
 ],
 "metadata": {
  "kernelspec": {
   "display_name": "Python 3",
   "language": "python",
   "name": "python3"
  },
  "language_info": {
   "codemirror_mode": {
    "name": "ipython",
    "version": 3
   },
   "file_extension": ".py",
   "mimetype": "text/x-python",
   "name": "python",
   "nbconvert_exporter": "python",
   "pygments_lexer": "ipython3",
   "version": "3.7.3"
  }
 },
 "nbformat": 4,
 "nbformat_minor": 2
}
