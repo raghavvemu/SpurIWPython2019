{
 "cells": [
  {
   "cell_type": "code",
   "execution_count": 33,
   "metadata": {},
   "outputs": [
    {
     "name": "stdout",
     "output_type": "stream",
     "text": [
      "('Macaroni and Cheese', 'Noodles', 'French Fries')\n"
     ]
    }
   ],
   "source": [
    "thistuple = (\"Macaroni and Cheese\",\"Noodles\",\"French Fries\")\n",
    "print (thistuple)"
   ]
  },
  {
   "cell_type": "code",
   "execution_count": 36,
   "metadata": {},
   "outputs": [
    {
     "name": "stdout",
     "output_type": "stream",
     "text": [
      "['Macaroni and Cheese', 'Noodles', 'French Fries']\n"
     ]
    }
   ],
   "source": [
    "thislist = [\"Macaroni and Cheese\",\"Noodles\",\"French Fries\"]\n",
    "print (thislist)"
   ]
  },
  {
   "cell_type": "code",
   "execution_count": 49,
   "metadata": {},
   "outputs": [
    {
     "name": "stdout",
     "output_type": "stream",
     "text": [
      "3.French Fries\n",
      "2.Noodles\n",
      "1.Macaroni and Cheese\n"
     ]
    }
   ],
   "source": [
    "thislist = {\"1.Macaroni and Cheese\",\"2.Noodles\",\"3.French Fries\"}\n",
    "for x in(thislist):\n",
    "    print(x)\n"
   ]
  },
  {
   "cell_type": "code",
   "execution_count": null,
   "metadata": {},
   "outputs": [],
   "source": []
  },
  {
   "cell_type": "code",
   "execution_count": null,
   "metadata": {},
   "outputs": [],
   "source": []
  }
 ],
 "metadata": {
  "kernelspec": {
   "display_name": "Python 3",
   "language": "python",
   "name": "python3"
  },
  "language_info": {
   "codemirror_mode": {
    "name": "ipython",
    "version": 3
   },
   "file_extension": ".py",
   "mimetype": "text/x-python",
   "name": "python",
   "nbconvert_exporter": "python",
   "pygments_lexer": "ipython3",
   "version": "3.7.3"
  }
 },
 "nbformat": 4,
 "nbformat_minor": 2
}
