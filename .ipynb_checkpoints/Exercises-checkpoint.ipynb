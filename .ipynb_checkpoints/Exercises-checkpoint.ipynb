{
 "cells": [
  {
   "cell_type": "code",
   "execution_count": 6,
   "metadata": {},
   "outputs": [
    {
     "name": "stdout",
     "output_type": "stream",
     "text": [
      "80\n"
     ]
    }
   ],
   "source": [
    "print(20*4)"
   ]
  },
  {
   "cell_type": "code",
   "execution_count": 8,
   "metadata": {},
   "outputs": [
    {
     "name": "stdout",
     "output_type": "stream",
     "text": [
      "80\n"
     ]
    }
   ],
   "source": [
    "a = 20\n",
    "b = 4\n",
    "print(a*b)"
   ]
  },
  {
   "cell_type": "code",
   "execution_count": 9,
   "metadata": {},
   "outputs": [
    {
     "name": "stdout",
     "output_type": "stream",
     "text": [
      "80\n"
     ]
    }
   ],
   "source": [
    "c = 20*4\n",
    "print(c)"
   ]
  },
  {
   "cell_type": "code",
   "execution_count": 109,
   "metadata": {},
   "outputs": [
    {
     "ename": "SyntaxError",
     "evalue": "invalid syntax (<ipython-input-109-b2a594f947cf>, line 3)",
     "output_type": "error",
     "traceback": [
      "\u001b[0;36m  File \u001b[0;32m\"<ipython-input-109-b2a594f947cf>\"\u001b[0;36m, line \u001b[0;32m3\u001b[0m\n\u001b[0;31m    if a>b\u001b[0m\n\u001b[0m          ^\u001b[0m\n\u001b[0;31mSyntaxError\u001b[0m\u001b[0;31m:\u001b[0m invalid syntax\n"
     ]
    }
   ],
   "source": [
    "a = 100\n",
    "b = 50\n",
    "if a>b\n",
    "    print(\"I've mastered decision making\")\n",
    "\n",
    "    \n",
    "    print(\"I've mastered decision making\")\n",
    "    print(\"I've mastered decision making\")\n",
    "    print(\"I've mastered decision making\")\n",
    "    print(\"I've mastered decision making\")\n",
    "    print(\"I've mastered decision making\")\n",
    "    print(\"I've mastered decision making\")\n",
    "    print(\"I've mastered decision making\")\n",
    "    print(\"I've mastered decision making\")\n",
    "    print(\"I've mastered decision making\")\n",
    "    print(\"I've mastered decision making\")\n",
    "    print(\"I've mastered decision making\")\n",
    "    print(\"I've mastered decision making\")\n",
    "    print(\"I've mastered decision making\")\n",
    "    print(\"I've mastered decision making\")\n",
    "    print(\"I've mastered decision making\")\n",
    "    print(\"I've mastered decision making\")\n",
    "    print(\"I've mastered decision making\")\n",
    "    print(\"I've mastered decision making\")\n",
    "    print(\"I've mastered decision making\")\n",
    "    print(\"I've mastered decision making\")\n",
    "    print(\"I've mastered decision making\")\n",
    "    print(\"I've mastered decision making\")\n",
    "    print(\"I've mastered decision making\")\n",
    "    print(\"I've mastered decision making\")\n",
    "    print(\"I've mastered decision making\")\n",
    "    print(\"I've mastered decision making\") \n",
    "    print(\"I've mastered decision making\")\n",
    "    print(\"I've mastered decision making\")\n",
    "    print(\"I've mastered decision making\")\n",
    "    print(\"I've mastered decision making\")\n",
    "    print(\"I've mastered decision making\")\n",
    "    print(\"I've mastered decision making\")\n",
    "    print(\"I've mastered decision making\") \n",
    "    print(\"I've mastered decision making\")\n",
    "    print(\"I've mastered decision making\")\n",
    "    print(\"I've mastered decision making\")\n",
    "    print(\"I've mastered decision making\")\n",
    "    print(\"I've mastered decision making\")\n",
    "    print(\"I've mastered decision making\")\n",
    "    print(\"I've mastered decision making\") \n",
    "    print(\"I've mastered decision making\")\n",
    "    print(\"I've mastered decision making\")\n",
    "    print(\"I've mastered decision making\")\n",
    "    print(\"I've mastered decision making\")\n",
    "    print(\"I've mastered decision making\")\n",
    "    print(\"I've mastered decision making\")\n",
    "    print(\"I've mastered decision making\") \n",
    "    print(\"I've mastered decision making\")\n",
    "    print(\"I've mastered decision making\")\n",
    "    print(\"I've mastered decision making\")\n",
    "    print(\"I've mastered decision making\")\n",
    "    print(\"I've mastered decision making\")\n",
    "    print(\"I've mastered decision making\")\n",
    "    print(\"I've mastered decision making\") \n",
    "    print(\"I've mastered decision making\")\n",
    "    print(\"I've mastered decision making\")\n",
    "    print(\"I've mastered decision making\")\n",
    "    print(\"I've mastered decision making\")\n",
    "    print(\"I've mastered decision making\")\n",
    "    print(\"I've mastered decision making\")\n",
    "    print(\"I've mastered decision making\")\n",
    "    print(\"I've mastered decision making\")\n",
    "    print(\"I've mastered decision making\")\n",
    "    print(\"I've mastered decision making\")\n",
    "    print(\"I've mastered decision making\")\n",
    "    print(\"I've mastered decision making\")\n",
    "    print(\"I've mastered decision making\")\n",
    "    print(\"I've mastered decision making\")\n",
    "    print(\"I've mastered decision making\")\n",
    "    print(\"I've mastered decision making\") \n",
    "    print(\"I've mastered decision making\")\n",
    "    print(\"I've mastered decision making\")\n",
    "    print(\"I've mastered decision making\")\n",
    "    print(\"I've mastered decision making\")\n",
    "    print(\"I've mastered decision making\")\n",
    "    print(\"I've mastered decision making\")\n",
    "    print(\"I've mastered decision making\") \n",
    "    print(\"I've mastered decision making\")\n",
    "    print(\"I've mastered decision making\")\n",
    "    print(\"I've mastered decision making\")\n",
    "    print(\"I've mastered decision making\")\n",
    "    print(\"I've mastered decision making\")\n",
    "    print(\"I've mastered decision making\") \n",
    "    print(\"I've mastered decision making\")\n",
    "    print(\"I've mastered decision making\")\n",
    "    print(\"I've mastered decision making\")\n",
    "    print(\"I've mastered decision making\")\n",
    "    print(\"I've mastered decision making\")\n",
    "    print(\"I've mastered decision making\")\n",
    "    print(\"I've mastered decision making\") \n",
    "    print(\"I've mastered decision making\")\n",
    "    print(\"I've mastered decision making\")\n",
    "    print(\"I've mastered decision making\")\n",
    "    print(\"I've mastered decision making\")\n",
    "    print(\"I've mastered decision making\")\n",
    "    print(\"I've mastered decision making\")\n",
    "    print(\"I've mastered decision making\")\n",
    "    print(\"I've mastered decision making\")\n",
    "    print(\"I've mastered decision making\")\n",
    "    print(\"I've mastered decision making\")\n",
    "    print(\"I've mastered decision making\")\n",
    "    print(\"I've mastered decision making\")\n",
    "    print(\"I've mastered decision making\") \n",
    "    print(\"I've mastered decision making\")\n",
    "    print(\"I've mastered decision making\")\n",
    "    print(\"I've mastered decision making\")\n",
    "    print(\"I've mastered decision making\")\n",
    "    print(\"I've mastered decision making\")\n",
    "    print(\"I've mastered decision making\")\n",
    "    print(\"I've mastered decision making\") \n",
    "    print(\"I've mastered decision making\")\n",
    "    print(\"I've mastered decision making\")\n",
    "    print(\"I've mastered decision making\")\n",
    "    print(\"I've mastered decision making\")\n",
    "    print(\"I've mastered decision making\")\n",
    "    print(\"I've mastered decision making\")\n",
    "    print(\"I've mastered decision making\")\n",
    "    print(\"I've mastered decision making\")\n",
    "    print(\"I've mastered decision making\")\n",
    "    print(\"I've mastered decision making\")\n",
    "    print(\"I've mastered decision making\")\n",
    "    print(\"I've mastered decision making\")\n",
    "    print(\"I've mastered decision making\")\n",
    "    print(\"I've mastered decision making\")\n",
    "    print(\"I've mastered decision making\")\n",
    "    print(\"I've mastered decision making\")\n",
    "    print(\"I've mastered decision making\")\n",
    "    print(\"I've mastered decision making\")\n",
    "    print(\"I've mastered decision making\")\n",
    "    print(\"I've mastered decision making\") \n",
    "    print(\"I've mastered decision making\")\n",
    "    print(\"I've mastered decision making\")\n",
    "    print(\"I've mastered decision making\")\n",
    "    print(\"I've mastered decision making\")\n",
    "    print(\"I've mastered decision making\")\n",
    "    print(\"I've mastered decision making\")\n",
    "    print(\"I'veion making\")\n",
    "    print(\"I've mastered decision making\")\n",
    "    print(\"I've mastered decision making\")\n",
    "    print(\"I've mastered decision making\")\n",
    "    print(\"I've mastered decision making\")\n",
    "    print(\"I've mastered decision making\")\n",
    "    print(\"I've mastered decision making\")\n",
    "    print(\"I've mastered decision making\")\n",
    "    print(\"I've mastered decision making\")\n",
    "    print(\"I've mastered decision making\")\n",
    "    print(\"I've mastered decision making\")\n",
    "    print(\"I've mastered decision making\") \n",
    "    print(\"I've mastered decision making\")\n",
    "    print(\"I've mastered decision making\")\n",
    "    print(\"I've mastered decision making\")\n",
    "    print(\"I've mastered decision making\")\n",
    "    print(\"I've mastered decision making\")\n",
    "    print(\"I've mastered decision making\")\n",
    "    print(\"I've mastered decision making\")\n",
    "    print(\"I've mastered decision making\")\n",
    "    print(\"I've mastered decision making\")\n",
    "    print(\"I've mastered decision making\")\n",
    "    print(\"I've mastered decision making\")\n",
    "    print(\"I've mastered decision making\")\n",
    "    print(\"I've mastered decision making\")\n",
    "    print(\"I've mastered decision making\")\n",
    "    print(\"I've mastered decision making\")\n",
    "    print(\"I've mastered decision making\")\n",
    "    print(\"I've mastered decision making\")\n",
    "    print(\"I've mastered decision making\")\n",
    "    print(\"I've mastered decision making\")\n",
    "    print(\"I've mastered decision making\")\n",
    "    print(\"I've mastered decision making\")\n",
    "    print(\"I've mastered decision making\")\n",
    "    print(\"I've mastered decision making\")\n",
    "    print(\"I've mastered decision making\")\n",
    "    print(\"I've mastered decision making\")\n",
    "    print(\"I've mastered decision making\") \n",
    "    print(\"I've mastered decision making\")\n",
    "    print(\"I've mastered decision making\")\n",
    "    print(\"I've mastered decision making\")\n",
    "    print(\"I've mastered decision making\")\n",
    "    print(\"I've mastered decision making\")\n",
    "    print(\"I've mastered decision making\")\n",
    "    print(\"I've mastered decision making\") \n",
    "    print(\"I've mastered decision making\")\n",
    "    print(\"I've mastered decision making\")\n",
    "    print(\"I've mastered decision making\")\n",
    "    print(\"I've mastered decision making\")\n",
    "    print(\"I've mastered decision making\")\n",
    "    print(\"I've mastered decision making\")\n",
    "    print(\"I've mastered decision making\")\n",
    "    print(\"I've mastered decision making\")\n",
    "    print(\"I've mastered decision making\")\n",
    "    print(\"I've mastered decision making\")\n",
    "    print(\"I've mastered decision making\")\n",
    "    print(\"I've mastered decision making\") \n",
    "    print(\"I've mastered decision making\")\n",
    "    print(\"I've mastered decision making\")\n",
    "    print(\"I've mastered decision making\")\n",
    "    print(\"I've mastered decision making\")\n",
    "    print(\"I've mastered decision making\")\n",
    "    print(\"I've mastered decision making\")\n",
    "    print(\"I've mastered decision making\") \n",
    "    print(\"I've mastered decision making\")\n",
    "    print(\"I've mastered decision making\")\n",
    "    print(\"I've mastered decision making\")\n",
    "    print(\"I've mastered decision making\")\n",
    "    print(\"I've mastered decision making\")\n",
    "    print(\"I've mastered decision making\")\n",
    "    print(\"I've mastered decision making\")\n",
    "    print(\"I've mastered decision making\")\n",
    "    print(\"I've mastered decision making\")\n",
    "    print(\"I've mastered decision making\")\n",
    "    print(\"I've mastered decision making\")\n",
    "    print(\"I've mastered decision making\")\n",
    "    print(\"I've mastered decision making\")\n",
    "    print(\"I've mastered decision making\")\n",
    "    print(\"I've mastered decision making\")\n",
    "    print(\"I've mastered decision making\")\n",
    "    print(\"I've mastered decision making\")\n",
    "    print(\"I've mastered decision making\")\n",
    "    print(\"I've mastered decision making\")\n",
    "    print(\"I've mastered decision making\")\n",
    "    print(\"I've mastered decision making\")\n",
    "    print(\"I've mastered decision making\")\n",
    "    print(\"I've mastered decision making\")\n",
    "    print(\"I've mastered decision making\")\n",
    "    print(\"I've mastered decision making\")\n",
    "    print(\"I've mastered decision making\")\n",
    "    print(\"I've mastered decision making\")\n",
    "    print(\"I've mastered decision making\")\n",
    "    print(\"I've mastered decision making\")\n",
    "    print(\"I've mastered decision making\")\n",
    "    print(\"I've mastered decision making\")\n",
    "    print(\"I've mastered decision making\")\n",
    "    print(\"I've mastered decision making\")\n",
    "    print(\"I've mastered decision making\")\n",
    "    print(\"I've mastered decision making\")\n",
    "    print(\"I've mastered decision making\")\n",
    "    print(\"I've mastered decision making\")\n",
    "    print(\"I've mastered decision making\")\n",
    "    print(\"I've mastered decision making\")\n",
    "    print(\"I've mastered decision making\")\n",
    "    print(\"I've mastered decision making\")\n",
    "    print(\"I've mastered decision making\")\n",
    "    print(\"I've mastered decision making\") "
   ]
  },
  {
   "cell_type": "code",
   "execution_count": null,
   "metadata": {},
   "outputs": [],
   "source": [
    "print(\"Hello, World!\")"
   ]
  },
  {
   "cell_type": "code",
   "execution_count": null,
   "metadata": {},
   "outputs": [],
   "source": [
    "a = \"Hello, World!\"\n",
    "print(a.replace(\"World\", \"Class\"))"
   ]
  },
  {
   "cell_type": "code",
   "execution_count": 52,
   "metadata": {},
   "outputs": [],
   "source": [
    "thislist = [\"apple\", \"banana\", \"cherry\"]\n",
    "x=thislist[1] # sets x to \"banana\" \n",
    "x=thislist[2] # sets x to \"apple\" \n"
   ]
  },
  {
   "cell_type": "code",
   "execution_count": null,
   "metadata": {
    "scrolled": true
   },
   "outputs": [],
   "source": [
    "thislist = [\"apple\", \"banana\", \"cherry\"]\n",
    "print(thislist)"
   ]
  },
  {
   "cell_type": "code",
   "execution_count": null,
   "metadata": {},
   "outputs": [],
   "source": [
    "y = -5\n",
    "while y<10:\n",
    "    if y == 0:\n",
    "        y = y + 1\n",
    "        continue\n",
    "    print(y)\n",
    "    y = y + 1\n",
    "    "
   ]
  },
  {
   "cell_type": "markdown",
   "metadata": {},
   "source": [
    "# function Exercise"
   ]
  },
  {
   "cell_type": "code",
   "execution_count": null,
   "metadata": {},
   "outputs": [],
   "source": [
    "def sumList(myList):\n",
    "    sumList = 0\n",
    "    for item in myList:\n",
    "        sumList += item\n",
    "        return sumList\n",
    "x = range(3141592)\n",
    "print(sumList(x))"
   ]
  },
  {
   "cell_type": "raw",
   "metadata": {},
   "source": [
    "def pizza(olives):\n",
    "    if olives == 0:\n",
    "        return olives\n",
    "    olives -= 1\n",
    "    return pizza(olives)\n",
    "-pizza(100)  \n"
   ]
  },
  {
   "cell_type": "code",
   "execution_count": null,
   "metadata": {},
   "outputs": [],
   "source": []
  },
  {
   "cell_type": "code",
   "execution_count": null,
   "metadata": {},
   "outputs": [],
   "source": []
  },
  {
   "cell_type": "code",
   "execution_count": null,
   "metadata": {},
   "outputs": [],
   "source": []
  }
 ],
 "metadata": {
  "kernelspec": {
   "display_name": "Python 3",
   "language": "python",
   "name": "python3"
  }
 },
 "nbformat": 4,
 "nbformat_minor": 2
}
